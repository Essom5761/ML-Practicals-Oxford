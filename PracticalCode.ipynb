{
 "cells": [
  {
   "cell_type": "code",
   "execution_count": 1,
   "id": "0c4041a8",
   "metadata": {},
   "outputs": [],
   "source": [
    "import math\n",
    "import matplotlib.pyplot as plt\n",
    "import _pickle as cp\n",
    "import numpy as np\n",
    "from numpy.linalg import inv\n",
    "X, y = cp.load(open('winequality-white.pickle', 'rb'))\n",
    "\n",
    "N, D = X.shape\n",
    "N_train = int(0.8 * N)\n",
    "N_test = N - N_train\n",
    "X_train = X[:N_train]\n",
    "y_train = y[:N_train]\n",
    "X_test = X[N_train:]\n",
    "y_test = y[N_train:]"
   ]
  },
  {
   "cell_type": "markdown",
   "id": "8e8bef17",
   "metadata": {},
   "source": [
    "HANDIN 1"
   ]
  },
  {
   "cell_type": "code",
   "execution_count": 2,
   "id": "01f1f81f",
   "metadata": {
    "scrolled": true
   },
   "outputs": [
    {
     "name": "stdout",
     "output_type": "stream",
     "text": [
      "[  14  129 1164 1772  692  144    3]\n",
      "[3. 4. 5. 6. 7. 8. 9.]\n"
     ]
    },
    {
     "data": {
      "text/plain": [
       "<BarContainer object of 7 artists>"
      ]
     },
     "execution_count": 2,
     "metadata": {},
     "output_type": "execute_result"
    },
    {
     "data": {
      "image/png": "[encoded data removed]",
      "text/plain": [
       "<Figure size 432x288 with 1 Axes>"
      ]
     },
     "metadata": {
      "needs_background": "light"
     },
     "output_type": "display_data"
    }
   ],
   "source": [
    "#finding the frequency of each number\n",
    "y_train_len = len(y_train)\n",
    "y_test_len = len(y_test)\n",
    "\n",
    "y_train_vals, y_train_freq = np.unique(y_train, return_counts = True)\n",
    "print(y_train_freq)\n",
    "print(y_train_vals)\n",
    "plt.bar(y_train_vals,y_train_freq)"
   ]
  },
  {
   "cell_type": "markdown",
   "id": "47806620",
   "metadata": {},
   "source": [
    "HANDIN 2"
   ]
  },
  {
   "cell_type": "code",
   "execution_count": 3,
   "id": "e2b9deac",
   "metadata": {},
   "outputs": [
    {
     "name": "stdout",
     "output_type": "stream",
     "text": [
      "0.8138573000045539\n",
      "0.8813496687751756\n",
      "0.7767772386501112\n"
     ]
    }
   ],
   "source": [
    "#finding the average = sum(y)/N\n",
    "y_train_average = np.divide(np.dot(y_train_vals,y_train_freq),y_train_len)\n",
    "\n",
    "#mean squared error\n",
    "#y_i - mean\n",
    "training_difference = np.subtract(y_train, y_train_average)\n",
    "test_difference = np.subtract(y_test, y_train_average)\n",
    "\n",
    "#(y_i - mean)^2\n",
    "training_difference_squared = np.dot(training_difference, training_difference)\n",
    "test_differnce_squared = np.dot(test_difference, test_difference)\n",
    "\n",
    "#((y_i - mean)^2)/n where n = len(y)\n",
    "#this is the mean squared error\n",
    "training_mse = np.divide(training_difference_squared,y_train_len)\n",
    "test_mse = np.divide(test_differnce_squared, y_test_len)\n",
    "\n",
    "print(test_mse)\n",
    "\n",
    "test = np.std(y_train)\n",
    "print(test)\n",
    "print(training_mse)"
   ]
  },
  {
   "cell_type": "markdown",
   "id": "42df1d4b",
   "metadata": {},
   "source": [
    "HANDIN 3"
   ]
  },
  {
   "cell_type": "code",
   "execution_count": 4,
   "id": "49bb482b",
   "metadata": {},
   "outputs": [
    {
     "name": "stdout",
     "output_type": "stream",
     "text": [
      "training error is 0.5639996173941926\n",
      "test error is 0.5607292042283463\n"
     ]
    }
   ],
   "source": [
    "def meanSqErr(mat1,mat2):\n",
    "    difference = np.subtract(mat1,mat2)\n",
    "    squared = np.dot(difference,difference)\n",
    "    final = np.divide(squared,len(mat1))\n",
    "    \n",
    "    return final\n",
    "\n",
    "#values are standardised as follows\n",
    "#x' = (x - mean) / standard_deviation\n",
    "def standardise(X_train,X_test):\n",
    "    X_train, X_test = (X_train.T,X_test.T)\n",
    "    for i in range(len(X_train)):\n",
    "        avg = np.average(X_train[i])\n",
    "        X_train[i] -= avg\n",
    "        X_test[i] -= avg\n",
    "        \n",
    "        std = np.std(X_train[i])\n",
    "        X_train[i] /= std\n",
    "        X_test[i] /= std\n",
    "                   \n",
    "    return(X_train.T, X_test.T)\n",
    "\n",
    "#X_train_std, X_test_std = standardise(X_train,X_test)\n",
    "\n",
    "def linearRegression(trainingData, testingData):\n",
    "    \n",
    "    X_train, y_train, N_train = trainingData\n",
    "    X_test, y_test, N_test = testingData\n",
    "    \n",
    "    X_train, X_test = standardise(X_train, X_test)\n",
    "    \n",
    "    #adding w0\n",
    "    ones_vector_train = [[1] for i in range(N_train)]\n",
    "    ones_vector_test = [[1] for i in range(N_test)]\n",
    "    \n",
    "    #add ones vectors to input data to get 12 features\n",
    "    X_train = np.hstack((ones_vector_train,X_train))\n",
    "    X_test = np.hstack((ones_vector_test,X_test))\n",
    "    \n",
    "    #calculate weights using least squares estimate formula\n",
    "    #given in the notes\n",
    "    w = np.matmul(np.matmul(inv(np.matmul(X_train.T,X_train)),X_train.T),y_train)\n",
    "    \n",
    "    #error calc\n",
    "    trainErr = meanSqErr(y_train,np.matmul(X_train,w))\n",
    "    testErr = meanSqErr(y_test,np.matmul(X_test,w))\n",
    "    \n",
    "    return trainErr, testErr\n",
    "\n",
    "trainingData = (X_train, y_train, N_train)\n",
    "testingData = (X_test, y_test, N_test)\n",
    "\n",
    "trainErr, testErr = linearRegression(trainingData, testingData)\n",
    "print(\"training error is \" + str(trainErr))\n",
    "print(\"test error is \" + str(testErr))"
   ]
  },
  {
   "cell_type": "markdown",
   "id": "d491711f",
   "metadata": {},
   "source": [
    "HANDIN 4"
   ]
  },
  {
   "cell_type": "code",
   "execution_count": 7,
   "id": "a101330c",
   "metadata": {
    "scrolled": true
   },
   "outputs": [
    {
     "data": {
      "image/png": "[encoded data removed]",
      "text/plain": [
       "<Figure size 432x288 with 1 Axes>"
      ]
     },
     "metadata": {
      "needs_background": "light"
     },
     "output_type": "display_data"
    }
   ],
   "source": [
    "def graph(errors):\n",
    "    x = range(20, 600, 20)\n",
    "    trainErrs = [error[0] for error in errors]\n",
    "    testErrs = [error[1] for error in errors]\n",
    "    \n",
    "    plt.plot(x,trainErrs, color = \"blue\", linewidth = 1.5,label = \"Training Error\")\n",
    "    plt.plot(x,testErrs, color = \"red\", linewidth = 1.5, label = \"Testing Error\")\n",
    "    plt.xlabel(\"Size of training set\")\n",
    "    plt.ylabel(\"Error\")\n",
    "    plt.title(\"Testing vs Training error for different values of n_train\")\n",
    "    plt.legend()\n",
    "    \n",
    "    plt.show()\n",
    "    \n",
    "def regressionUpUntil(X, y, n_train, n_test):\n",
    "    X_train = X[:n_train]\n",
    "    y_train = y[:n_train]\n",
    "    X_test = X[n_train:]\n",
    "    y_test = y[n_train:]\n",
    "    \n",
    "    trainingData = (X_train, y_train, n_train)\n",
    "    testingData = (X_test, y_test, n_test)\n",
    "    return linearRegression(trainingData, testingData)\n",
    "    \n",
    "errors = [regressionUpUntil(X, y, n_train, N-n_train) for n_train in range(20,600,20)]\n",
    "graph(errors)"
   ]
  },
  {
   "cell_type": "code",
   "execution_count": null,
   "id": "8d426bc0",
   "metadata": {},
   "outputs": [],
   "source": [
    "Since the curves approach each other then plateau at a very low error then the bias is suitable"
   ]
  }
 ],
 "metadata": {
  "kernelspec": {
   "display_name": "Python 3 (ipykernel)",
   "language": "python",
   "name": "python3"
  },
  "language_info": {
   "codemirror_mode": {
    "name": "ipython",
    "version": 3
   },
   "file_extension": ".py",
   "mimetype": "text/x-python",
   "name": "python",
   "nbconvert_exporter": "python",
   "pygments_lexer": "ipython3",
   "version": "3.9.12"
  }
 },
 "nbformat": 4,
 "nbformat_minor": 5
}
